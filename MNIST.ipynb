{
  "nbformat": 4,
  "nbformat_minor": 0,
  "metadata": {
    "colab": {
      "name": "MNIST.ipynb",
      "provenance": [],
      "collapsed_sections": [],
      "toc_visible": true
    },
    "kernelspec": {
      "display_name": "Python 3",
      "language": "python",
      "name": "python3"
    },
    "language_info": {
      "codemirror_mode": {
        "name": "ipython",
        "version": 3
      },
      "file_extension": ".py",
      "mimetype": "text/x-python",
      "name": "python",
      "nbconvert_exporter": "python",
      "pygments_lexer": "ipython3",
      "version": "3.7.3"
    }
  },
  "cells": [
    {
      "cell_type": "markdown",
      "metadata": {
        "colab_type": "text",
        "id": "mzJ8F_21RM12"
      },
      "source": [
        "**Part-2 (Multiclass Classification):**"
      ]
    },
    {
      "cell_type": "code",
      "metadata": {
        "colab_type": "code",
        "id": "mIB-Eky6RMd-",
        "outputId": "525dbad8-6b85-4a00-d721-4c85dc0da811",
        "colab": {
          "base_uri": "https://localhost:8080/",
          "height": 136
        }
      },
      "source": [
        "#2.1.a) Use the data from the file reduced_mnist.csv in the data directory. Begin by reading the data.\n",
        "#Print the following information:\n",
        "#Number of data points\n",
        "#Total number of features\n",
        "#Unique labels in the data\n",
        "\n",
        "\n",
        "import pandas as pd\n",
        "import matplotlib.pyplot as plt\n",
        "# import warnings filter\n",
        "import warnings\n",
        "warnings.filterwarnings(\"ignore\", category=FutureWarning)\n",
        "\n",
        "\n",
        "df = pd.read_csv('reduced_mnist.csv')\n",
        "m,n=df.shape\n",
        "#print(\"Data shape: {}\".format(df.shape))\n",
        "print('The number of records are :',m)\n",
        "print('The number of columns are :',n)\n",
        "print('The unique labels in the dataset are ',sorted(df.label.unique()))\n",
        "\n",
        "print('')\n",
        "print(\"\"\"The MNIST dataset contains 2520 records and 785 columns\n",
        " * 784 feature columns pixel0 to pixel783\n",
        " * 1 label column\"\"\")"
      ],
      "execution_count": 0,
      "outputs": [
        {
          "output_type": "stream",
          "text": [
            "The number of records are : 2520\n",
            "The number of columns are : 785\n",
            "The unique labels in the dataset are  [0, 1, 2, 3, 4, 5, 6, 7, 8, 9]\n",
            "\n",
            "The MNIST dataset contains 2520 records and 785 columns\n",
            " * 784 feature columns pixel0 to pixel783\n",
            " * 1 label column\n"
          ],
          "name": "stdout"
        }
      ]
    },
    {
      "cell_type": "code",
      "metadata": {
        "colab_type": "code",
        "id": "NIqT5IAjRKUw",
        "outputId": "689421b1-0bba-4e9c-fe37-e335d5f8a971",
        "colab": {
          "base_uri": "https://localhost:8080/",
          "height": 544
        }
      },
      "source": [
        "#2.1 b) Split the data into 70% training data and 30% test data. Fit a One-vs-Rest Classifier (which uses Logistic regression \n",
        "#classifier with alpha=1) on training data, and report accuracy, precision, recall on testing data. \n",
        "\n",
        "from sklearn.model_selection import train_test_split\n",
        "from sklearn.linear_model import LogisticRegression\n",
        "from sklearn.preprocessing import StandardScaler\n",
        "from sklearn.metrics import accuracy_score\n",
        "from sklearn.metrics import confusion_matrix\n",
        "from sklearn.metrics import classification_report\n",
        "# import warnings filter\n",
        "import warnings\n",
        "warnings.filterwarnings(\"ignore\", category=FutureWarning)\n",
        "\n",
        "dftrain, dftest = train_test_split(df, test_size=0.3)\n",
        "features_train=dftrain.iloc[:,1:785]\n",
        "labels_train=dftrain.iloc[:,0]\n",
        "features_test=dftest.iloc[:,1:785]\n",
        "labels_test=dftest.iloc[:,0]\n",
        "alpha=1\n",
        "\n",
        "clf = LogisticRegression(random_state=0, multi_class='ovr', C=1/alpha)\n",
        "ovr_model = clf.fit(features_train, labels_train)\n",
        "\n",
        "labels_predicted=ovr_model.predict(features_test)\n",
        "\n",
        "print('Accuracy of One Vs Rest is : '+ str(accuracy_score(labels_test,labels_predicted)))\n",
        "print('')\n",
        "print(classification_report(labels_test,labels_predicted,digits=3))\n",
        "\n",
        "confusion_matrix_ovr = confusion_matrix(labels_test,labels_predicted)\n",
        "print('Here is the confusion matrix')\n",
        "print('----------------------------')\n",
        "print(confusion_matrix_ovr)"
      ],
      "execution_count": 0,
      "outputs": [
        {
          "output_type": "stream",
          "text": [
            "Accuracy of One Vs Rest is : 0.83994708994709\n",
            "\n",
            "              precision    recall  f1-score   support\n",
            "\n",
            "           0      0.862     0.938     0.898        80\n",
            "           1      0.950     0.970     0.960        99\n",
            "           2      0.833     0.783     0.807        83\n",
            "           3      0.812     0.757     0.783        74\n",
            "           4      0.867     0.844     0.855        77\n",
            "           5      0.746     0.794     0.769        63\n",
            "           6      0.840     0.913     0.875        69\n",
            "           7      0.863     0.863     0.863        73\n",
            "           8      0.726     0.692     0.709        65\n",
            "           9      0.826     0.781     0.803        73\n",
            "\n",
            "   micro avg      0.840     0.840     0.840       756\n",
            "   macro avg      0.833     0.833     0.832       756\n",
            "weighted avg      0.839     0.840     0.839       756\n",
            "\n",
            "Here is the confusion matrix\n",
            "----------------------------\n",
            "[[75  1  1  1  0  0  1  0  1  0]\n",
            " [ 0 96  0  0  0  1  0  0  2  0]\n",
            " [ 3  0 65  2  0  0  8  1  3  1]\n",
            " [ 1  0  4 56  1  8  1  0  3  0]\n",
            " [ 0  0  0  2 65  1  1  0  2  6]\n",
            " [ 3  0  1  2  0 50  0  0  4  3]\n",
            " [ 3  0  1  0  1  0 63  0  1  0]\n",
            " [ 0  2  2  4  0  0  0 63  0  2]\n",
            " [ 2  2  3  2  3  7  1  0 45  0]\n",
            " [ 0  0  1  0  5  0  0  9  1 57]]\n"
          ],
          "name": "stdout"
        }
      ]
    },
    {
      "cell_type": "code",
      "metadata": {
        "id": "zvRrpMT5g27K",
        "colab_type": "code",
        "colab": {},
        "outputId": "7b3a0b37-a7f9-419f-ccb1-620565541ed3"
      },
      "source": [
        "#2.2 Choosing the best hyper-parameter \n",
        "#a) - Choose the best value of alpha from the set a={0.1, 1, 3, 10, 33, 100, 333, 1000, 3333, 10000, 33333} by observing average training and validation performance P.\n",
        "#On a graph, plot both the average training performance (in red) and average validation performacne (in blue) w.r.t. each hyperparameter value.\n",
        "#Comment on this graph by identifying regions of overfitting and underfitting.\n",
        "#Print the best value of alpha hyperparameter\n",
        "\n",
        "# import warnings filter\n",
        "import warnings\n",
        "warnings.filterwarnings(\"ignore\", category=FutureWarning)\n",
        "import numpy as np\n",
        "from sklearn.model_selection import train_test_split\n",
        "from sklearn.metrics import f1_score\n",
        "\n",
        "def runLROVRmodel(trials, data, penalty_score):\n",
        "\n",
        "   model_acc     = 0\n",
        "   final_f1score_train = np.zeros([1,1])\n",
        "   final_f1score_val = np.zeros([1,1]) # storing model weights\n",
        "    \n",
        "   for i in range(0,trials):\n",
        "       Dtrain, Dtest = train_test_split(data, test_size=0.3)\n",
        "       Xtrain = Dtrain.iloc[:,1:785].copy()\n",
        "       ytrain = Dtrain.iloc[:,0].copy()\n",
        "       Xtest = Dtest.iloc[:,1:785].copy()\n",
        "       ytest = Dtest.iloc[:,0].copy()\n",
        "    \n",
        "       lr = LogisticRegression(C=1/penalty_score, random_state=0, multi_class='ovr')\n",
        "       lr.fit(Xtrain, ytrain)\n",
        "       \n",
        "       y_predict_train = lr.predict(Xtrain)\n",
        "       f1score_train=f1_score(ytrain, y_predict_train, average='weighted')  \n",
        "       final_f1score_train  +=  f1score_train\n",
        "    \n",
        "       y_predict_val = lr.predict(Xtest)\n",
        "       f1score_val=f1_score(ytest, y_predict_val, average='weighted')\n",
        "       final_f1score_val  +=  f1score_val\n",
        "   \n",
        "   final_f1score_train /= trials\n",
        "   final_f1score_val /= trials\n",
        "   return np.round(final_f1score_train, decimals=2),np.round(final_f1score_val, decimals=2)\n",
        "\n",
        "print('We are going to use P as f1-score since fID=',218545396%3)\n",
        "\n",
        "alpha_vals = [0.1, 1, 3, 10, 33, 100, 333, 1000, 3333, 10000, 33333]\n",
        "acc_train = np.zeros((len(alpha_vals),1))\n",
        "acc_val = np.zeros((len(alpha_vals),1))\n",
        "index = 0\n",
        "\n",
        "for l in alpha_vals:\n",
        "   acc_train[index], acc_val[index] = runLROVRmodel(10, dftrain, np.float(l))\n",
        "   print('For alpha value :', l,'we got an average f1-score on trainining set:', acc_train[index])\n",
        "   print('For alpha value :', l,'we got an average f1-score on validation set:', acc_val[index]) \n",
        "   print('')\n",
        "   index += 1\n",
        "   \n",
        "# penalty at which validation accuracy is maximum\n",
        "max_index_t  = np.argmax(acc_train[:,0])\n",
        "max_index_v  = np.argmax(acc_val[:,0])\n",
        "best_alpha_t = alpha_vals[max_index_t]\n",
        "best_alpha_v = alpha_vals[max_index_v]\n",
        "print(\"\")\n",
        "print(\"\"\"We have performed 10 random splits of training data into training (70%) and validation (30%) set.\n",
        "We then used these 10 sets of data to find the average validation performance P for both training sets and validation set\n",
        "which is the f1 score in our case.\n",
        "\n",
        "Best Alpha for training set gave maximum F1 score is: {}\"\"\".format(best_alpha_t))\n",
        "print(\"\"\"Best Alpha for validation that gave maximum F1 score is: {}\"\"\".format(best_alpha_v))\n",
        "\n",
        "#plot the accuracy curve\n",
        "plt.plot(range(0,len(alpha_vals)), acc_val[:,0], color='b', label='validation')\n",
        "plt.plot(range(0,len(alpha_vals)), acc_train[:,0], color='r', label='training')\n",
        "#replace the x-axis labels with penalty values\n",
        "plt.xticks(range(0,len(alpha_vals)), alpha_vals, rotation='vertical')\n",
        "\n",
        "#Highlight the best values of alpha and lambda\n",
        "plt.plot((max_index_v, max_index_v), (0, acc_val[max_index_v]), ls='dotted', color='b')\n",
        "plt.plot((max_index_t, max_index_t), (0, acc_train[max_index_t]), ls='dotted', color='r')\n",
        "\n",
        "#Set the y-axis from 0 to 1.0\n",
        "axes = plt.gca()\n",
        "axes.set_ylim([0, 1.2])\n",
        "\n",
        "plt.legend(loc=\"lower left\")\n",
        "plt.show()"
      ],
      "execution_count": 0,
      "outputs": [
        {
          "output_type": "stream",
          "text": [
            "We are going to use P as f1-score since fID= 1\n",
            "For alpha value : 0.1 we got an average f1-score on trainining set: [1.]\n",
            "For alpha value : 0.1 we got an average f1-score on validation set: [0.84]\n",
            "\n",
            "For alpha value : 1 we got an average f1-score on trainining set: [1.]\n",
            "For alpha value : 1 we got an average f1-score on validation set: [0.84]\n",
            "\n",
            "For alpha value : 3 we got an average f1-score on trainining set: [1.]\n",
            "For alpha value : 3 we got an average f1-score on validation set: [0.84]\n",
            "\n",
            "For alpha value : 10 we got an average f1-score on trainining set: [1.]\n",
            "For alpha value : 10 we got an average f1-score on validation set: [0.84]\n",
            "\n",
            "For alpha value : 33 we got an average f1-score on trainining set: [1.]\n",
            "For alpha value : 33 we got an average f1-score on validation set: [0.84]\n",
            "\n",
            "For alpha value : 100 we got an average f1-score on trainining set: [1.]\n",
            "For alpha value : 100 we got an average f1-score on validation set: [0.84]\n",
            "\n",
            "For alpha value : 333 we got an average f1-score on trainining set: [1.]\n",
            "For alpha value : 333 we got an average f1-score on validation set: [0.83]\n",
            "\n",
            "For alpha value : 1000 we got an average f1-score on trainining set: [1.]\n",
            "For alpha value : 1000 we got an average f1-score on validation set: [0.85]\n",
            "\n",
            "For alpha value : 3333 we got an average f1-score on trainining set: [1.]\n",
            "For alpha value : 3333 we got an average f1-score on validation set: [0.85]\n",
            "\n",
            "For alpha value : 10000 we got an average f1-score on trainining set: [1.]\n",
            "For alpha value : 10000 we got an average f1-score on validation set: [0.85]\n",
            "\n",
            "For alpha value : 33333 we got an average f1-score on trainining set: [1.]\n",
            "For alpha value : 33333 we got an average f1-score on validation set: [0.87]\n",
            "\n",
            "\n",
            "We have performed 10 random splits of training data into training (70%) and validation (30%) set.\n",
            "We then used these 10 sets of data to find the average validation performance P for both training sets and validation set\n",
            "which is the f1 score in our case.\n",
            "\n",
            "Best Alpha for training set gave maximum F1 score is: 0.1\n",
            "Best Alpha for validation that gave maximum F1 score is: 33333\n"
          ],
          "name": "stdout"
        },
        {
          "output_type": "display_data",
          "data": {
            "image/png": "[encoded data removed]",
            "text/plain": [
              "<Figure size 432x288 with 1 Axes>"
            ]
          },
          "metadata": {
            "tags": [],
            "needs_background": "light"
          }
        }
      ]
    },
    {
      "cell_type": "code",
      "metadata": {
        "id": "cYVll6Hng27O",
        "colab_type": "code",
        "colab": {},
        "outputId": "c8486ca5-fb56-48a0-91c1-d3281d02f8d5"
      },
      "source": [
        "#2.2b)Use the best alpha and all training data to build the final model and then evaluate the prediction performance \n",
        "#on test data and report the following: \n",
        "# a)The confusion matrix\n",
        "# b)Precision, recall and accuracy for each class.\n",
        "\n",
        "from sklearn.model_selection import train_test_split\n",
        "from sklearn.linear_model import LogisticRegression\n",
        "from sklearn.preprocessing import StandardScaler\n",
        "from sklearn.metrics import accuracy_score\n",
        "from sklearn.metrics import confusion_matrix\n",
        "from sklearn.metrics import classification_report\n",
        "# import warnings filter\n",
        "import warnings\n",
        "warnings.filterwarnings(\"ignore\", category=FutureWarning)\n",
        "\n",
        "alpha=best_alpha_v\n",
        "\n",
        "clf = LogisticRegression(random_state=0, multi_class='ovr', C=1/alpha)\n",
        "ovr_model = clf.fit(features_train, labels_train)\n",
        "\n",
        "labels_predicted=ovr_model.predict(features_test)\n",
        "\n",
        "print('Accuracy of One Vs Rest is : '+ str(accuracy_score(labels_test,labels_predicted)))\n",
        "print('')\n",
        "print(classification_report(labels_test,labels_predicted,digits=3))\n",
        "\n",
        "confusion_matrix_ovr = confusion_matrix(labels_test,labels_predicted)\n",
        "print('Here is the confusion matrix')\n",
        "print('----------------------------')\n",
        "print(confusion_matrix_ovr)"
      ],
      "execution_count": 0,
      "outputs": [
        {
          "output_type": "stream",
          "text": [
            "Accuracy of One Vs Rest is : 0.873015873015873\n",
            "\n",
            "              precision    recall  f1-score   support\n",
            "\n",
            "           0      0.882     0.938     0.909        80\n",
            "           1      0.960     0.970     0.965        99\n",
            "           2      0.896     0.831     0.862        83\n",
            "           3      0.831     0.797     0.814        74\n",
            "           4      0.872     0.883     0.877        77\n",
            "           5      0.828     0.841     0.835        63\n",
            "           6      0.890     0.942     0.915        69\n",
            "           7      0.901     0.877     0.889        73\n",
            "           8      0.825     0.800     0.812        65\n",
            "           9      0.797     0.808     0.803        73\n",
            "\n",
            "   micro avg      0.873     0.873     0.873       756\n",
            "   macro avg      0.868     0.869     0.868       756\n",
            "weighted avg      0.873     0.873     0.873       756\n",
            "\n",
            "Here is the confusion matrix\n",
            "----------------------------\n",
            "[[75  1  1  2  0  0  1  0  0  0]\n",
            " [ 0 96  0  1  0  0  0  0  2  0]\n",
            " [ 1  0 69  1  1  1  6  0  3  1]\n",
            " [ 2  0  4 59  1  5  0  0  3  0]\n",
            " [ 0  0  0  1 68  0  0  0  0  8]\n",
            " [ 4  0  0  3  0 53  0  0  1  2]\n",
            " [ 2  0  0  0  1  0 65  0  1  0]\n",
            " [ 0  2  2  2  0  0  0 64  0  3]\n",
            " [ 1  1  0  2  2  5  1  0 52  1]\n",
            " [ 0  0  1  0  5  0  0  7  1 59]]\n"
          ],
          "name": "stdout"
        }
      ]
    },
    {
      "cell_type": "markdown",
      "metadata": {
        "id": "28mqwbbig27U",
        "colab_type": "text"
      },
      "source": [
        "2.2b) Discuss if there is any sign of underfitting or overfitting with appropriate reasoning.\n",
        "\n",
        "There are no signs of over-fitting or under-fitting demostrated by this model.\n",
        "We could say this because the training set is showing good performance of 100% accuracy and the testing set also shows a good generalization of about 87%."
      ]
    }
  ]
}